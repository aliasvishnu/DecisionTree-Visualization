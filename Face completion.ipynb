{
 "cells": [
  {
   "cell_type": "code",
   "execution_count": 1,
   "metadata": {
    "collapsed": true
   },
   "outputs": [],
   "source": [
    "import numpy as np\n",
    "import matplotlib.pyplot as plt\n",
    "from sklearn.datasets import fetch_olivetti_faces"
   ]
  },
  {
   "cell_type": "code",
   "execution_count": 2,
   "metadata": {
    "collapsed": true
   },
   "outputs": [],
   "source": [
    "from sklearn.ensemble import ExtraTreesRegressor\n",
    "from sklearn.ensemble import RandomForestRegressor\n",
    "from sklearn.neighbors import KNeighborsRegressor\n",
    "from sklearn.linear_model import LinearRegression\n",
    "from sklearn.linear_model import RidgeCV"
   ]
  },
  {
   "cell_type": "code",
   "execution_count": 44,
   "metadata": {
    "collapsed": false
   },
   "outputs": [],
   "source": [
    "data = fetch_olivetti_faces()"
   ]
  },
  {
   "cell_type": "code",
   "execution_count": 11,
   "metadata": {
    "collapsed": false
   },
   "outputs": [],
   "source": [
    "plt.imshow(data['images'][0], cmap = plt.cm.gray)\n",
    "plt.show()"
   ]
  },
  {
   "cell_type": "code",
   "execution_count": 64,
   "metadata": {
    "collapsed": true
   },
   "outputs": [],
   "source": [
    "shuffle = np.random.choice(len(data.images), len(data.images))\n",
    "images = (data.images.reshape((len(data.images), -1)))[shuffle]\n",
    "targets = (data.target)[shuffle]"
   ]
  },
  {
   "cell_type": "code",
   "execution_count": 74,
   "metadata": {
    "collapsed": false
   },
   "outputs": [],
   "source": [
    "npixels = np.product(images[0].shape)\n",
    "trainX = images[targets < 30][:, :int(np.ceil(0.5*npixels))]\n",
    "trainY = images[targets < 30][:, int(np.floor(0.5*npixels)):]\n",
    "\n",
    "testX = images[targets >= 30][:, :int(np.ceil(0.5*npixels))]\n",
    "testY = images[targets >= 30][:, int(np.floor(0.5*npixels)):]"
   ]
  },
  {
   "cell_type": "code",
   "execution_count": 77,
   "metadata": {
    "collapsed": false
   },
   "outputs": [],
   "source": [
    "plt.imshow(trainX[0].reshape((32, 64)), cmap = plt.cm.gray)\n",
    "plt.show()"
   ]
  },
  {
   "cell_type": "code",
   "execution_count": 97,
   "metadata": {
    "collapsed": false
   },
   "outputs": [],
   "source": [
    "models = {\n",
    "    \"Extra trees\": ExtraTreesRegressor(n_estimators = 10,\n",
    "                                     max_features = 32, random_state=0),\n",
    "    \"K-nn\": KNeighborsRegressor(),\n",
    "    \"Linear regression\": LinearRegression(), \n",
    "#     \"Ridge\": RidgeCV(),\n",
    "}"
   ]
  },
  {
   "cell_type": "code",
   "execution_count": 98,
   "metadata": {
    "collapsed": false
   },
   "outputs": [
    {
     "name": "stdout",
     "output_type": "stream",
     "text": [
      "K-nn\n",
      "Extra trees\n",
      "Linear regression\n"
     ]
    }
   ],
   "source": [
    "prediction = {}\n",
    "for name, model in models.items():\n",
    "    print name\n",
    "    model.fit(trainX, trainY)\n",
    "    prediction[name] = model.predict(testX)"
   ]
  },
  {
   "cell_type": "code",
   "execution_count": 99,
   "metadata": {
    "collapsed": false
   },
   "outputs": [],
   "source": [
    "image_shape = (64, 64)\n",
    "n_cols = 1+len(models)\n",
    "n_faces = 5\n",
    "plt.figure(figsize=(2.0*n_cols, 2.26*n_faces))\n",
    "plt.suptitle(\"Face completion\")\n",
    "for i in range(5):\n",
    "    true_face = np.hstack((testX[i], testY[i]))\n",
    "    \n",
    "    if i:\n",
    "        sub = plt.subplot(n_faces, n_cols, i*n_cols+1)\n",
    "    else:\n",
    "        sub = plt.subplot(n_faces, n_cols, i*n_cols+1, title = \"True faces\")\n",
    "            \n",
    "    sub.axis(\"off\")\n",
    "    sub.imshow(true_face.reshape(image_shape),cmap=plt.cm.gray,\n",
    "              interpolation=\"nearest\")\n",
    "\n",
    "    for j, est in enumerate(sorted(models)):\n",
    "        completed_face = np.hstack((testX[i], prediction[est][i]))\n",
    "\n",
    "        if i:\n",
    "            sub = plt.subplot(n_faces, n_cols, i * n_cols + 2 + j)\n",
    "\n",
    "        else:\n",
    "            sub = plt.subplot(n_faces, n_cols, i * n_cols + 2 + j,\n",
    "                              title=est)\n",
    "\n",
    "        sub.axis(\"off\")\n",
    "        sub.imshow(completed_face.reshape(image_shape),\n",
    "                   cmap=plt.cm.gray,\n",
    "                   interpolation=\"nearest\")\n",
    "\n",
    "plt.show()"
   ]
  },
  {
   "cell_type": "code",
   "execution_count": null,
   "metadata": {
    "collapsed": true
   },
   "outputs": [],
   "source": []
  }
 ],
 "metadata": {
  "kernelspec": {
   "display_name": "Python [Root]",
   "language": "python",
   "name": "Python [Root]"
  },
  "language_info": {
   "codemirror_mode": {
    "name": "ipython",
    "version": 2
   },
   "file_extension": ".py",
   "mimetype": "text/x-python",
   "name": "python",
   "nbconvert_exporter": "python",
   "pygments_lexer": "ipython2",
   "version": "2.7.12"
  }
 },
 "nbformat": 4,
 "nbformat_minor": 0
}
